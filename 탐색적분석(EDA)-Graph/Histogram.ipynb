{
 "cells": [
  {
   "cell_type": "code",
   "execution_count": 1,
   "metadata": {},
   "outputs": [],
   "source": [
    "#데이터 구성 패키지 : Series, DataFrame\n",
    "import pandas as pd\n",
    "#행렬 연산 패키지\n",
    "import numpy as np\n",
    "#데이터 시각화 패키지\n",
    "import matplotlib\n",
    "import matplotlib.pyplot as plt\n",
    "\n",
    "#데이터 시각화(추세 등) 패키지\n",
    "import seaborn as sns\n",
    "\n",
    "#한글 폰트 적용\n",
    "matplotlib.rc('font',family='Malgun Gothic')"
   ]
  },
  {
   "cell_type": "code",
   "execution_count": 2,
   "metadata": {},
   "outputs": [
    {
     "data": {
      "text/html": [
       "<div>\n",
       "<style scoped>\n",
       "    .dataframe tbody tr th:only-of-type {\n",
       "        vertical-align: middle;\n",
       "    }\n",
       "\n",
       "    .dataframe tbody tr th {\n",
       "        vertical-align: top;\n",
       "    }\n",
       "\n",
       "    .dataframe thead th {\n",
       "        text-align: right;\n",
       "    }\n",
       "</style>\n",
       "<table border=\"1\" class=\"dataframe\">\n",
       "  <thead>\n",
       "    <tr style=\"text-align: right;\">\n",
       "      <th></th>\n",
       "      <th>NAME</th>\n",
       "      <th>GENDER</th>\n",
       "      <th>AGE</th>\n",
       "      <th>AGEGROUP</th>\n",
       "      <th>WEIGHT</th>\n",
       "      <th>OXY</th>\n",
       "      <th>RUNTIME</th>\n",
       "      <th>RUNPULSE</th>\n",
       "      <th>RSTPULSE</th>\n",
       "      <th>MAXPULSE</th>\n",
       "    </tr>\n",
       "  </thead>\n",
       "  <tbody>\n",
       "    <tr>\n",
       "      <th>0</th>\n",
       "      <td>Donna</td>\n",
       "      <td>여성</td>\n",
       "      <td>42</td>\n",
       "      <td>40대</td>\n",
       "      <td>68.15</td>\n",
       "      <td>59.571</td>\n",
       "      <td>8.17</td>\n",
       "      <td>166</td>\n",
       "      <td>40</td>\n",
       "      <td>172</td>\n",
       "    </tr>\n",
       "    <tr>\n",
       "      <th>1</th>\n",
       "      <td>Gracie</td>\n",
       "      <td>여성</td>\n",
       "      <td>38</td>\n",
       "      <td>30대</td>\n",
       "      <td>81.87</td>\n",
       "      <td>60.055</td>\n",
       "      <td>8.63</td>\n",
       "      <td>170</td>\n",
       "      <td>48</td>\n",
       "      <td>186</td>\n",
       "    </tr>\n",
       "    <tr>\n",
       "      <th>2</th>\n",
       "      <td>Luanne</td>\n",
       "      <td>여성</td>\n",
       "      <td>43</td>\n",
       "      <td>40대</td>\n",
       "      <td>85.84</td>\n",
       "      <td>54.297</td>\n",
       "      <td>8.65</td>\n",
       "      <td>156</td>\n",
       "      <td>45</td>\n",
       "      <td>168</td>\n",
       "    </tr>\n",
       "  </tbody>\n",
       "</table>\n",
       "</div>"
      ],
      "text/plain": [
       "     NAME GENDER  AGE AGEGROUP  WEIGHT     OXY  RUNTIME  RUNPULSE  RSTPULSE  \\\n",
       "0   Donna     여성   42      40대   68.15  59.571     8.17       166        40   \n",
       "1  Gracie     여성   38      30대   81.87  60.055     8.63       170        48   \n",
       "2  Luanne     여성   43      40대   85.84  54.297     8.65       156        45   \n",
       "\n",
       "   MAXPULSE  \n",
       "0       172  \n",
       "1       186  \n",
       "2       168  "
      ]
     },
     "execution_count": 2,
     "metadata": {},
     "output_type": "execute_result"
    }
   ],
   "source": [
    "df_fitness = pd.read_csv('../data/FITNESS.csv', engine=\"python\")\n",
    "df_fitness.head(3)"
   ]
  },
  {
   "cell_type": "code",
   "execution_count": 3,
   "metadata": {},
   "outputs": [
    {
     "name": "stdout",
     "output_type": "stream",
     "text": [
      "<class 'pandas.core.frame.DataFrame'>\n",
      "RangeIndex: 31 entries, 0 to 30\n",
      "Data columns (total 10 columns):\n",
      " #   Column    Non-Null Count  Dtype  \n",
      "---  ------    --------------  -----  \n",
      " 0   NAME      31 non-null     object \n",
      " 1   GENDER    31 non-null     object \n",
      " 2   AGE       31 non-null     int64  \n",
      " 3   AGEGROUP  31 non-null     object \n",
      " 4   WEIGHT    31 non-null     float64\n",
      " 5   OXY       31 non-null     float64\n",
      " 6   RUNTIME   31 non-null     float64\n",
      " 7   RUNPULSE  31 non-null     int64  \n",
      " 8   RSTPULSE  31 non-null     int64  \n",
      " 9   MAXPULSE  31 non-null     int64  \n",
      "dtypes: float64(3), int64(4), object(3)\n",
      "memory usage: 2.5+ KB\n"
     ]
    }
   ],
   "source": [
    "df_fitness.info()"
   ]
  },
  {
   "cell_type": "markdown",
   "metadata": {},
   "source": [
    "### Step1 : Histogram 생성 : 혈당 산소 요구량(OXY)"
   ]
  },
  {
   "cell_type": "code",
   "execution_count": 4,
   "metadata": {},
   "outputs": [
    {
     "data": {
      "text/plain": [
       "<AxesSubplot:>"
      ]
     },
     "execution_count": 4,
     "metadata": {},
     "output_type": "execute_result"
    },
    {
     "data": {
      "image/png": "[encoded data removed]",
      "text/plain": [
       "<Figure size 432x288 with 1 Axes>"
      ]
     },
     "metadata": {
      "needs_background": "light"
     },
     "output_type": "display_data"
    }
   ],
   "source": [
    "#pandas 의 DataFrame.hist method 이용 : OXY 에 대한 히스토그램 생성 \n",
    "df_fitness[\"OXY\"].hist()"
   ]
  },
  {
   "cell_type": "markdown",
   "metadata": {},
   "source": [
    "=> 자료는 45~50 구간에 집중 분포되어 있으며 데이터 섬이 확인됨"
   ]
  },
  {
   "cell_type": "markdown",
   "metadata": {},
   "source": [
    "### Step2 : Histogram 생성 : 숫자형 변수 "
   ]
  },
  {
   "cell_type": "code",
   "execution_count": 5,
   "metadata": {},
   "outputs": [
    {
     "data": {
      "text/plain": [
       "array([[<AxesSubplot:title={'center':'AGE'}>,\n",
       "        <AxesSubplot:title={'center':'WEIGHT'}>,\n",
       "        <AxesSubplot:title={'center':'OXY'}>],\n",
       "       [<AxesSubplot:title={'center':'RUNTIME'}>,\n",
       "        <AxesSubplot:title={'center':'RUNPULSE'}>,\n",
       "        <AxesSubplot:title={'center':'RSTPULSE'}>],\n",
       "       [<AxesSubplot:title={'center':'MAXPULSE'}>, <AxesSubplot:>,\n",
       "        <AxesSubplot:>]], dtype=object)"
      ]
     },
     "execution_count": 5,
     "metadata": {},
     "output_type": "execute_result"
    },
    {
     "data": {
      "image/png": "[encoded data removed]",
      "text/plain": [
       "<Figure size 720x504 with 9 Axes>"
      ]
     },
     "metadata": {
      "needs_background": "light"
     },
     "output_type": "display_data"
    }
   ],
   "source": [
    "#hist(figsize) : figsize = (x축크기, y축크기) - 그래프 영역별 중첩 처리\n",
    "df_fitness.hist(figsize=(10,7))"
   ]
  },
  {
   "cell_type": "markdown",
   "metadata": {},
   "source": [
    "=> 다수의 숫자형 변수 분포를 동시에 확인 가능 "
   ]
  },
  {
   "cell_type": "markdown",
   "metadata": {},
   "source": [
    "### Step3 : Histogram 생성 : 성별 혈당 산소 요구량 "
   ]
  },
  {
   "cell_type": "code",
   "execution_count": 6,
   "metadata": {},
   "outputs": [
    {
     "data": {
      "text/plain": [
       "array([<AxesSubplot:title={'center':'남성'}>,\n",
       "       <AxesSubplot:title={'center':'여성'}>], dtype=object)"
      ]
     },
     "execution_count": 6,
     "metadata": {},
     "output_type": "execute_result"
    },
    {
     "data": {
      "image/png": "[encoded data removed]",
      "text/plain": [
       "<Figure size 432x288 with 2 Axes>"
      ]
     },
     "metadata": {
      "needs_background": "light"
     },
     "output_type": "display_data"
    }
   ],
   "source": [
    "#hist(column=변수, by=그룹변수, range=(최소값, 최대값)) - X축 범위 통일 \n",
    "df_fitness.hist(column=\"OXY\",by=\"GENDER\",range=(35,65))"
   ]
  },
  {
   "cell_type": "code",
   "execution_count": 10,
   "metadata": {},
   "outputs": [
    {
     "data": {
      "text/plain": [
       "<seaborn.axisgrid.FacetGrid at 0x22a7719d370>"
      ]
     },
     "execution_count": 10,
     "metadata": {},
     "output_type": "execute_result"
    },
    {
     "data": {
      "image/png": "[encoded data removed]",
      "text/plain": [
       "<Figure size 432x216 with 2 Axes>"
      ]
     },
     "metadata": {
      "needs_background": "light"
     },
     "output_type": "display_data"
    }
   ],
   "source": [
    "#seaborn사용. FaceGrid(데이터 지정, col=컬럼지정):지정된 컬럼의 범주별 그리드 영역 생성. Y축 범위 동일\n",
    "grid = sns.FacetGrid(df_fitness,col=\"GENDER\")\n",
    "#map(함수, 문자형 컬럼명) : 범주별 히스토그램 생성 \n",
    "grid.map(plt.hist,\"OXY\")"
   ]
  },
  {
   "cell_type": "markdown",
   "metadata": {},
   "source": [
    "=> 남성자료는 37 ~ 52 의 낮은 구간에, 여성의 자료는 45 ~ 60의 높은 구간에 분포되어 있음 "
   ]
  },
  {
   "cell_type": "markdown",
   "metadata": {},
   "source": [
    "### Step4 : Histogram 생성 : 성별 혈당 산소 요구량 중첩 "
   ]
  },
  {
   "cell_type": "code",
   "execution_count": 11,
   "metadata": {},
   "outputs": [
    {
     "data": {
      "text/plain": [
       "(array([1., 3., 1., 0., 1., 2., 3., 0., 3., 1.]),\n",
       " array([37.388 , 38.8347, 40.2814, 41.7281, 43.1748, 44.6215, 46.0682,\n",
       "        47.5149, 48.9616, 50.4083, 51.855 ]),\n",
       " <BarContainer object of 10 artists>)"
      ]
     },
     "execution_count": 11,
     "metadata": {},
     "output_type": "execute_result"
    },
    {
     "data": {
      "image/png": "[encoded data removed]",
      "text/plain": [
       "<Figure size 432x288 with 1 Axes>"
      ]
     },
     "metadata": {
      "needs_background": "light"
     },
     "output_type": "display_data"
    }
   ],
   "source": [
    "plt.hist(df_fitness[df_fitness[\"GENDER\"]==\"남성\"][\"OXY\"],label=\"남성\",alpha=0.5)"
   ]
  },
  {
   "cell_type": "code",
   "execution_count": null,
   "metadata": {},
   "outputs": [],
   "source": []
  },
  {
   "cell_type": "code",
   "execution_count": null,
   "metadata": {},
   "outputs": [],
   "source": []
  }
 ],
 "metadata": {
  "kernelspec": {
   "display_name": "Python 3",
   "language": "python",
   "name": "python3"
  },
  "language_info": {
   "codemirror_mode": {
    "name": "ipython",
    "version": 3
   },
   "file_extension": ".py",
   "mimetype": "text/x-python",
   "name": "python",
   "nbconvert_exporter": "python",
   "pygments_lexer": "ipython3",
   "version": "3.8.5"
  }
 },
 "nbformat": 4,
 "nbformat_minor": 4
}
